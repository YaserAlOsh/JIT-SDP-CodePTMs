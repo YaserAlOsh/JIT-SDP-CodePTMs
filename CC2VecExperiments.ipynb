{
 "cells": [
  {
   "cell_type": "markdown",
   "metadata": {},
   "source": [
    "### CC2Vec Experiment Commands"
   ]
  },
  {
   "cell_type": "markdown",
   "metadata": {},
   "source": [
    "Here you will find code that generates the commands needed to perform CC2Vec experiments (Training and testing on DeepJIT).    \n",
    "\n",
    "\n",
    "Before running this code, you should ensure the following files were generated using the Dataset Preparation notebook:"
   ]
  },
  {
   "cell_type": "code",
   "execution_count": null,
   "metadata": {},
   "outputs": [],
   "source": [
    "full_path ='datasets/apache_jit/cc2vec.pkl'\n",
    "train_path ='datasets/apache_jit/cc2vec_train.pkl'\n",
    "test_path = 'datasets/apache_jit/cc2vec_test.pkl'\n",
    "dict_path = 'datasets/apache_jit/cc2vec_dict.pkl'\n",
    "deep_jit_train_path = 'datasets/apache_jit/deep_jit_train.pkl'\n",
    "deep_jit_test_path = 'datasets/apache_jit/deep_jit_test.pkl'"
   ]
  },
  {
   "cell_type": "markdown",
   "metadata": {},
   "source": [
    "\n",
    "##### Command to train code change features from the training dataset"
   ]
  },
  {
   "cell_type": "code",
   "execution_count": null,
   "metadata": {},
   "outputs": [],
   "source": [
    "save_dir =  'models/apache_jit/cc2vec/'\n",
    "command = \"python CC2Vec/jit_cc2ftr.py -project apache_jit -train -train_data {} -test_data {} -dictionary_data {} -save-dir {}\".format(train_path,test_path,dict_path,save_dir)"
   ]
  },
  {
   "cell_type": "markdown",
   "metadata": {},
   "source": [
    "##### Command to obtain train vectors features:"
   ]
  },
  {
   "cell_type": "code",
   "execution_count": null,
   "metadata": {},
   "outputs": [],
   "source": [
    "model_path = 'snapshot/2022-08-30_18-39-46/epoch_50.pt' # update this to reflect the latest trained snapshot after running the previous command\n",
    "train_cc2vec_ftr_output_path = 'CC2Ftr/apache_jit_train_ftr.pkl'\n",
    "command = \"python CC2Vec/jit_cc2ftr.py -predict -predict_data {} -dictionary_data {} -load_model {} -name {}\".format(train_path,dict_path,model_path,train_cc2vec_ftr_output_path)"
   ]
  },
  {
   "cell_type": "markdown",
   "metadata": {},
   "source": [
    "##### Comamnd to obtain test vector features:"
   ]
  },
  {
   "cell_type": "code",
   "execution_count": null,
   "metadata": {},
   "outputs": [],
   "source": [
    "test_cc2vec_ftr_output_path = 'CC2Ftr/apache_jit_test_ftr.pkl'\n",
    "command = \"python CC2Vec/jit_cc2ftr.py -predict -predict_data {} -dictionary_data {} -load_model {} -name {}\".format(test_path,dict_path,model_path,test_cc2vec_ftr_output_path)"
   ]
  },
  {
   "cell_type": "markdown",
   "metadata": {},
   "source": [
    "##### Command to train DeepJIT model using train dataset and train vector features"
   ]
  },
  {
   "cell_type": "code",
   "execution_count": null,
   "metadata": {},
   "outputs": [],
   "source": [
    "deep_jit_train_command = f'python CC2Vec/jit_DExtended.py -train  -train_data {deep_jit_train_path} -train_data_cc2ftr {train_cc2vec_ftr_output_path} -dictionary_data {dict_path} -save-dir models/apache_jit/deep_jit/'"
   ]
  },
  {
   "cell_type": "markdown",
   "metadata": {},
   "source": [
    "##### Command to test DeepJIT model on test dataset and test vector features."
   ]
  },
  {
   "cell_type": "code",
   "execution_count": null,
   "metadata": {},
   "outputs": [],
   "source": [
    "deep_jit_model_path = 'models/apache_jit/deepjit/2023-07-02_21-15-52/epoch_50.pt' # replace with actual trained model path\n",
    "deep_jit_test_command = f'python CC2Vec/jit_DExtended.py -predict -pred_data {deep_jit_test_path} -pred_data_cc2ftr {test_cc2vec_ftr_output_path} -dictionary_data {dict_path} -load_model {deep_jit_model_path}'"
   ]
  }
 ],
 "metadata": {
  "language_info": {
   "name": "python"
  }
 },
 "nbformat": 4,
 "nbformat_minor": 2
}
